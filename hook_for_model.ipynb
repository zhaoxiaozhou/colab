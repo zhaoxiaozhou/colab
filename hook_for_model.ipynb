{
  "nbformat": 4,
  "nbformat_minor": 0,
  "metadata": {
    "colab": {
      "provenance": [],
      "authorship_tag": "ABX9TyO4W55kCcUJs+1YZ3FVEKOW",
      "include_colab_link": true
    },
    "kernelspec": {
      "name": "python3",
      "display_name": "Python 3"
    },
    "language_info": {
      "name": "python"
    }
  },
  "cells": [
    {
      "cell_type": "markdown",
      "metadata": {
        "id": "view-in-github",
        "colab_type": "text"
      },
      "source": [
        "<a href=\"https://colab.research.google.com/github/zhaoxiaozhou/colab/blob/main/hook_for_model.ipynb\" target=\"_parent\"><img src=\"https://colab.research.google.com/assets/colab-badge.svg\" alt=\"Open In Colab\"/></a>"
      ]
    },
    {
      "cell_type": "code",
      "execution_count": 1,
      "metadata": {
        "id": "4osb_ouGEBi6"
      },
      "outputs": [],
      "source": [
        "import torch\n",
        "import torch.nn as nn\n",
        "import torch.nn.functional as F"
      ]
    },
    {
      "cell_type": "code",
      "source": [
        "def hook_for_model(model):\n",
        "  for name, module in model.named_modules():\n",
        "    module.register_forward_hook(get_activation(name))\n",
        "    print(\"\")"
      ],
      "metadata": {
        "id": "2utruBjvEOSq"
      },
      "execution_count": null,
      "outputs": []
    },
    {
      "cell_type": "code",
      "source": [
        "class TestModule(nn.Module):\n",
        "  def __init__(self):\n",
        "    super().__init__()\n",
        "    self.layer1 = nn.Sequential(\n",
        "      # https://pytorch.org/docs/stable/generated/torch.nn.Conv2d.html\n",
        "      nn.Conv2d(3, 16, 3, 1, 1),\n",
        "      nn.ReLU()\n",
        "    )\n",
        "    self.layer2 = nn.Sequential(\n",
        "      nn.Linear(16, 10)\n",
        "    )\n",
        "\n",
        "  def forward(self, x):\n",
        "    x = self.layer1(x)\n",
        "    x = self.layer2(x)\n",
        "    return x"
      ],
      "metadata": {
        "id": "2oYG9alqEOtn"
      },
      "execution_count": 2,
      "outputs": []
    },
    {
      "cell_type": "code",
      "source": [],
      "metadata": {
        "id": "aU0CgMqRGuyB"
      },
      "execution_count": null,
      "outputs": []
    }
  ]
}