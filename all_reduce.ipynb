{
  "cells": [
    {
      "cell_type": "code",
      "execution_count": 2,
      "id": "b6bc45a4-ae41-47c1-a4c6-f0512392f361",
      "metadata": {
        "id": "b6bc45a4-ae41-47c1-a4c6-f0512392f361"
      },
      "outputs": [],
      "source": [
        "#!/usr/bin/env python\n",
        "\n",
        "import os\n",
        "import torch\n",
        "import torch.distributed as dist\n",
        "import torch.nn as nn\n",
        "import torch.nn.functional as F\n",
        "import torch.optim as optim\n",
        "\n",
        "from math import ceil\n",
        "from random import Random\n",
        "from torch.multiprocessing import Process\n",
        "from torch.autograd import Variable\n",
        "from torchvision import datasets, transforms"
      ]
    },
    {
      "cell_type": "code",
      "execution_count": 5,
      "id": "c09174a8-5409-400d-8d11-812d4feb389d",
      "metadata": {
        "id": "c09174a8-5409-400d-8d11-812d4feb389d"
      },
      "outputs": [],
      "source": [
        "class Partition(object):\n",
        "    \"\"\" Dataset-like object, but only access a subset of it. \"\"\"\n",
        "\n",
        "    def __init__(self, data, index):\n",
        "        self.data = data\n",
        "        self.index = index\n",
        "\n",
        "    def __len__(self):\n",
        "        return len(self.index)\n",
        "\n",
        "    def __getitem__(self, index):\n",
        "        data_idx = self.index[index]\n",
        "        return self.data[data_idx]"
      ]
    },
    {
      "cell_type": "code",
      "source": [
        "class DataPartitioner(object):\n",
        "    \"\"\" Partitions a dataset into different chuncks. \"\"\"\n",
        "    # 先对index进行shuffle\n",
        "    # 然后按照size进行partition\n",
        "    def __init__(self, data, sizes=[0.7, 0.2, 0.1], seed=1234):\n",
        "        self.data = data\n",
        "        self.partitions = []\n",
        "        rng = Random()\n",
        "        rng.seed(seed)\n",
        "        data_len = len(data)\n",
        "        indexes = [x for x in range(0, data_len)]\n",
        "        rng.shuffle(indexes)\n",
        "\n",
        "        for frac in sizes:\n",
        "            part_len = int(frac * data_len)\n",
        "            self.partitions.append(indexes[0:part_len])\n",
        "            indexes = indexes[part_len:]\n",
        "\n",
        "    def use(self, partition):\n",
        "        return Partition(self.data, self.partitions[partition])"
      ],
      "metadata": {
        "id": "xyn4bYPAZB4L"
      },
      "id": "xyn4bYPAZB4L",
      "execution_count": 6,
      "outputs": []
    },
    {
      "cell_type": "code",
      "source": [
        "class Net(nn.Module):\n",
        "    \"\"\" Network architecture. \"\"\"\n",
        "\n",
        "    def __init__(self):\n",
        "        super(Net, self).__init__()\n",
        "        self.conv1 = nn.Conv2d(1, 10, kernel_size=5)\n",
        "        self.conv2 = nn.Conv2d(10, 20, kernel_size=5)\n",
        "        self.conv2_drop = nn.Dropout2d()\n",
        "        self.fc1 = nn.Linear(320, 50)\n",
        "        self.fc2 = nn.Linear(50, 10)\n",
        "\n",
        "    def forward(self, x):\n",
        "        x = F.relu(F.max_pool2d(self.conv1(x), 2))\n",
        "        x = F.relu(F.max_pool2d(self.conv2_drop(self.conv2(x)), 2))\n",
        "        x = x.view(-1, 320)\n",
        "        x = F.relu(self.fc1(x))\n",
        "        x = F.dropout(x, training=self.training)\n",
        "        x = self.fc2(x)\n",
        "        return F.log_softmax(x)"
      ],
      "metadata": {
        "id": "MQ_QJIzRZIKi"
      },
      "id": "MQ_QJIzRZIKi",
      "execution_count": 7,
      "outputs": []
    },
    {
      "cell_type": "code",
      "source": [
        "def partition_dataset():\n",
        "    \"\"\" Partitioning MNIST \"\"\"\n",
        "    dataset = datasets.MNIST(\n",
        "        './data',\n",
        "        train=True,\n",
        "        download=True,\n",
        "        transform=transforms.Compose([\n",
        "            transforms.ToTensor(),\n",
        "            transforms.Normalize((0.1307, ), (0.3081, ))\n",
        "        ]))\n",
        "    size = int(dist.get_world_size()) # 获取rank的个数\n",
        "    total_bach_size = 128\n",
        "    bsz = int(total_bach_size / float(size)) # 每个rank对应的batch size\n",
        "    partition_sizes = [1.0 / size for _ in range(size)] # 设置每个rank处理数据量的大小\n",
        "    partition = DataPartitioner(dataset, partition_sizes) # 数据切分\n",
        "    partition = partition.use(dist.get_rank()) # 获取当前rank对应的数据\n",
        "\n",
        "    train_set = torch.utils.data.DataLoader(partition, batch_size=bsz, shuffle=True)\n",
        "    return train_set, bsz"
      ],
      "metadata": {
        "id": "M3GnVoaKZJ0H"
      },
      "id": "M3GnVoaKZJ0H",
      "execution_count": 8,
      "outputs": []
    },
    {
      "cell_type": "code",
      "source": [
        "def average_gradients(model):\n",
        "    \"\"\" Gradient averaging. \"\"\"\n",
        "    size = float(dist.get_world_size())\n",
        "    for param in model.parameters():\n",
        "        dist.all_reduce(param.grad.data, op=dist.reduce_op.SUM)\n",
        "        param.grad.data /= size"
      ],
      "metadata": {
        "id": "-OKa56g0ZMPR"
      },
      "id": "-OKa56g0ZMPR",
      "execution_count": 9,
      "outputs": []
    },
    {
      "cell_type": "code",
      "source": [
        "def run(rank, size):\n",
        "    \"\"\" Distributed Synchronous SGD Example \"\"\"\n",
        "    torch.manual_seed(1234)\n",
        "    train_set, bsz = partition_dataset()\n",
        "    model = Net()\n",
        "    model = model\n",
        "    model = model.cuda(rank)\n",
        "    optimizer = optim.SGD(model.parameters(), lr=0.01, momentum=0.5)\n",
        "\n",
        "    num_batches = ceil(len(train_set.dataset) / float(bsz))\n",
        "    for epoch in range(10):\n",
        "        epoch_loss = 0.0\n",
        "        for data, target in train_set:\n",
        "            data, target = Variable(data), Variable(target)\n",
        "            data, target = Variable(data.cuda(rank)), Variable(target.cuda(rank))\n",
        "            optimizer.zero_grad()\n",
        "            output = model(data)\n",
        "            loss = F.nll_loss(output, target)\n",
        "            epoch_loss += loss.item()\n",
        "            loss.backward()\n",
        "            average_gradients(model)\n",
        "            optimizer.step()\n",
        "        print('Rank ',\n",
        "              dist.get_rank(), ', epoch ', epoch, ': ',\n",
        "              epoch_loss / num_batches)"
      ],
      "metadata": {
        "id": "aarVWjQFZOm7"
      },
      "id": "aarVWjQFZOm7",
      "execution_count": 10,
      "outputs": []
    },
    {
      "cell_type": "code",
      "source": [
        "def init_processes(rank, size, fn, backend='nccl'):\n",
        "    \"\"\" Initialize the distributed environment. \"\"\"\n",
        "    os.environ['MASTER_ADDR'] = '127.0.0.1'\n",
        "    os.environ['MASTER_PORT'] = '29500'\n",
        "    dist.init_process_group(backend, rank=rank, world_size=size)\n",
        "    fn(rank, size)"
      ],
      "metadata": {
        "id": "0QuX0nE2ZPQW"
      },
      "id": "0QuX0nE2ZPQW",
      "execution_count": 11,
      "outputs": []
    },
    {
      "cell_type": "code",
      "source": [
        "if __name__ == \"__main__\":\n",
        "    size = 2\n",
        "    processes = []\n",
        "    for rank in range(size):\n",
        "        p = Process(target=init_processes, args=(rank, size, run))\n",
        "        p.start()\n",
        "        processes.append(p)\n",
        "\n",
        "    for p in processes:\n",
        "        p.join()"
      ],
      "metadata": {
        "colab": {
          "base_uri": "https://localhost:8080/"
        },
        "id": "CPTXEf5tZQp6",
        "outputId": "f7d5dc64-a2b3-42f3-a108-aa7d67179554"
      },
      "id": "CPTXEf5tZQp6",
      "execution_count": 12,
      "outputs": [
        {
          "output_type": "stream",
          "name": "stderr",
          "text": [
            "Process Process-1:\n",
            "Process Process-2:\n",
            "Traceback (most recent call last):\n",
            "Traceback (most recent call last):\n",
            "  File \"/usr/lib/python3.10/multiprocessing/process.py\", line 314, in _bootstrap\n",
            "    self.run()\n",
            "  File \"/usr/lib/python3.10/multiprocessing/process.py\", line 314, in _bootstrap\n",
            "    self.run()\n",
            "  File \"/usr/lib/python3.10/multiprocessing/process.py\", line 108, in run\n",
            "    self._target(*self._args, **self._kwargs)\n",
            "  File \"/usr/lib/python3.10/multiprocessing/process.py\", line 108, in run\n",
            "    self._target(*self._args, **self._kwargs)\n",
            "  File \"<ipython-input-11-13ac00445668>\", line 5, in init_processes\n",
            "    dist.init_process_group(backend, rank=rank, world_size=size)\n",
            "  File \"<ipython-input-11-13ac00445668>\", line 5, in init_processes\n",
            "    dist.init_process_group(backend, rank=rank, world_size=size)\n",
            "  File \"/usr/local/lib/python3.10/dist-packages/torch/distributed/c10d_logger.py\", line 75, in wrapper\n",
            "    return func(*args, **kwargs)\n",
            "  File \"/usr/local/lib/python3.10/dist-packages/torch/distributed/c10d_logger.py\", line 89, in wrapper\n",
            "    func_return = func(*args, **kwargs)\n",
            "  File \"/usr/local/lib/python3.10/dist-packages/torch/distributed/distributed_c10d.py\", line 1312, in init_process_group\n",
            "    default_pg, _ = _new_process_group_helper(\n",
            "  File \"/usr/local/lib/python3.10/dist-packages/torch/distributed/distributed_c10d.py\", line 1533, in _new_process_group_helper\n",
            "    backend_class = ProcessGroupNCCL(\n",
            "ValueError: ProcessGroupNCCL is only supported with GPUs, no GPUs found!\n",
            "  File \"/usr/local/lib/python3.10/dist-packages/torch/distributed/c10d_logger.py\", line 75, in wrapper\n",
            "    return func(*args, **kwargs)\n",
            "  File \"/usr/local/lib/python3.10/dist-packages/torch/distributed/c10d_logger.py\", line 89, in wrapper\n",
            "    func_return = func(*args, **kwargs)\n",
            "  File \"/usr/local/lib/python3.10/dist-packages/torch/distributed/distributed_c10d.py\", line 1312, in init_process_group\n",
            "    default_pg, _ = _new_process_group_helper(\n",
            "  File \"/usr/local/lib/python3.10/dist-packages/torch/distributed/distributed_c10d.py\", line 1533, in _new_process_group_helper\n",
            "    backend_class = ProcessGroupNCCL(\n",
            "ValueError: ProcessGroupNCCL is only supported with GPUs, no GPUs found!\n"
          ]
        }
      ]
    },
    {
      "cell_type": "code",
      "source": [],
      "metadata": {
        "id": "G-PiGgTHaeUi"
      },
      "id": "G-PiGgTHaeUi",
      "execution_count": null,
      "outputs": []
    }
  ],
  "metadata": {
    "kernelspec": {
      "display_name": "Python 3 (ipykernel)",
      "language": "python",
      "name": "python3"
    },
    "language_info": {
      "codemirror_mode": {
        "name": "ipython",
        "version": 3
      },
      "file_extension": ".py",
      "mimetype": "text/x-python",
      "name": "python",
      "nbconvert_exporter": "python",
      "pygments_lexer": "ipython3",
      "version": "3.8.19"
    },
    "colab": {
      "provenance": []
    }
  },
  "nbformat": 4,
  "nbformat_minor": 5
}